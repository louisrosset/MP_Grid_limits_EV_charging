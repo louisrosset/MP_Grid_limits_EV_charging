{
 "cells": [
  {
   "cell_type": "markdown",
   "id": "52e65579",
   "metadata": {},
   "source": [
    "# <center> Master Project\n",
    "# Running Random Forest and linear regressions"
   ]
  },
  {
   "cell_type": "markdown",
   "id": "444ded10",
   "metadata": {},
   "source": [
    "## 1 - Importing data"
   ]
  },
  {
   "cell_type": "code",
   "execution_count": 2,
   "id": "54534ec6",
   "metadata": {},
   "outputs": [],
   "source": [
    "import sklearn\n",
    "import os\n",
    "import pandas as pd\n",
    "import numpy as np\n",
    "import matplotlib.pyplot as plt\n",
    "\n",
    "from sklearn.model_selection import train_test_split\n",
    "from sklearn.ensemble import RandomForestRegressor\n",
    "from sklearn.linear_model import LinearRegression\n",
    "from sklearn.metrics import mean_squared_error, r2_score\n",
    "from sklearn.utils.validation import (check_array, check_consistent_length, _num_samples, column_or_1d)"
   ]
  },
  {
   "cell_type": "markdown",
   "id": "f1900bf8",
   "metadata": {},
   "source": [
    "#### SCE Data\n",
    "Real data (tothh_Cpoly > 1)"
   ]
  },
  {
   "cell_type": "code",
   "execution_count": 7,
   "id": "ed02325f",
   "metadata": {},
   "outputs": [],
   "source": [
    "SCE_realdata = pd.read_csv('C:/Users/Louis Rosset/Documents/EPFL/Master Project/Grid_limits_EV_charging/04_allocation/IOUdata/SCE/circuitfiles/SCE_ICAalldemotrees_real.csv')"
   ]
  },
  {
   "cell_type": "code",
   "execution_count": 8,
   "id": "f8999cb9",
   "metadata": {},
   "outputs": [
    {
     "name": "stdout",
     "output_type": "stream",
     "text": [
      "(33172, 44)\n"
     ]
    }
   ],
   "source": [
    "print(SCE_realdata.shape)"
   ]
  },
  {
   "cell_type": "markdown",
   "id": "92c17d85",
   "metadata": {},
   "source": [
    "#### PG&E data\n",
    "Real data (tothh_Cpoly > 1)"
   ]
  },
  {
   "cell_type": "code",
   "execution_count": 9,
   "id": "a4972bf8",
   "metadata": {},
   "outputs": [],
   "source": [
    "PGE_realdata = pd.read_csv('C:/Users/Louis Rosset/Documents/EPFL/Master Project/Grid_limits_EV_charging/04_allocation/IOUdata/PGE/circuitfiles/PGE_ICAalldemotrees_real.csv')"
   ]
  },
  {
   "cell_type": "code",
   "execution_count": 10,
   "id": "8af0bafa",
   "metadata": {},
   "outputs": [
    {
     "name": "stdout",
     "output_type": "stream",
     "text": [
      "(27628, 41)\n"
     ]
    }
   ],
   "source": [
    "print(PGE_realdata.shape)"
   ]
  },
  {
   "cell_type": "markdown",
   "id": "bbfc9d61",
   "metadata": {},
   "source": [
    "## 2 - Editing data"
   ]
  },
  {
   "cell_type": "code",
   "execution_count": 11,
   "id": "c9bb7406",
   "metadata": {},
   "outputs": [
    {
     "data": {
      "text/plain": [
       "Index(['CircuitName', 'GEOID', 'ICL_kWphh', 'ICL_kWphh_cap', 'CircVolt_kV',\n",
       "       'Length_m', 'Length_m_ctot', 'Phase_max', 'Phase_min', 'CLSmax',\n",
       "       'CLSmin', 'ResCust', 'Res_pct', 'Com_pct', 'Ind_pct', 'Agr_pct',\n",
       "       'Oth_pct', 'tothh_Cpoly', 'tothh_ctot', 'tothh_pct', 'tothh_perkm',\n",
       "       'tothh', 'racediversity', 'black_pct', 'asian_pct', 'nlxwhite_pct',\n",
       "       'latinx_pct', 'inc50kbelow_pct', 'inc150kplus_pct', 'medhhinc',\n",
       "       'edavgyrs', 'ownerocc_pct', 'singleunit_pct', 'MUD_pct', 'duplex_pct',\n",
       "       'smallmulti_pct', 'largemulti_pct', 'unitsavg', 'medyrbuilt',\n",
       "       'hhdensity_hhsqkm', 'polexposure_pctl', 'polenvt_pctl', 'popsens_pctl',\n",
       "       'lingisolation_pctl'],\n",
       "      dtype='object')"
      ]
     },
     "execution_count": 11,
     "metadata": {},
     "output_type": "execute_result"
    }
   ],
   "source": [
    "SCE_realdata.columns"
   ]
  },
  {
   "cell_type": "code",
   "execution_count": 12,
   "id": "2dbf2177",
   "metadata": {},
   "outputs": [
    {
     "data": {
      "text/plain": [
       "Index(['CircuitName', 'GEOID', 'ICL_kWphh', 'ICL_kWphh_cap', 'CircVolt_kV',\n",
       "       'Length_m', 'Length_m_ctot', 'ICA_pct', 'ResCust', 'Res_pct', 'Com_pct',\n",
       "       'Ind_pct', 'Agr_pct', 'Oth_pct', 'tothh_Cpoly', 'tothh_ctot',\n",
       "       'tothh_pct', 'tothh_perkm', 'tothh', 'racediversity', 'black_pct',\n",
       "       'asian_pct', 'nlxwhite_pct', 'latinx_pct', 'inc50kbelow_pct',\n",
       "       'inc150kplus_pct', 'medhhinc', 'edavgyrs', 'ownerocc_pct',\n",
       "       'singleunit_pct', 'MUD_pct', 'duplex_pct', 'smallmulti_pct',\n",
       "       'largemulti_pct', 'unitsavg', 'medyrbuilt', 'hhdensity_hhsqkm',\n",
       "       'polexposure_pctl', 'polenvt_pctl', 'popsens_pctl',\n",
       "       'lingisolation_pctl'],\n",
       "      dtype='object')"
      ]
     },
     "execution_count": 12,
     "metadata": {},
     "output_type": "execute_result"
    }
   ],
   "source": [
    "PGE_realdata.columns"
   ]
  },
  {
   "cell_type": "code",
   "execution_count": 13,
   "id": "b2f0e9f7",
   "metadata": {},
   "outputs": [],
   "source": [
    "SCE_realdata_dropped = SCE_realdata.drop(columns = ['CircuitName', 'GEOID'])\n",
    "PGE_realdata_dropped = PGE_realdata.drop(columns = ['CircuitName', 'GEOID'])"
   ]
  },
  {
   "cell_type": "code",
   "execution_count": 14,
   "id": "a99baeab",
   "metadata": {},
   "outputs": [
    {
     "name": "stdout",
     "output_type": "stream",
     "text": [
      "(33172, 42)\n",
      "(27628, 39)\n"
     ]
    }
   ],
   "source": [
    "SCE_realdata_encoded = pd.get_dummies(SCE_realdata_dropped)\n",
    "print(SCE_realdata_encoded.shape)\n",
    "\n",
    "PGE_realdata_encoded = pd.get_dummies(PGE_realdata_dropped)\n",
    "print(PGE_realdata_encoded.shape)"
   ]
  },
  {
   "cell_type": "markdown",
   "id": "c7e48cc7",
   "metadata": {},
   "source": [
    "Extract y labels"
   ]
  },
  {
   "cell_type": "code",
   "execution_count": 15,
   "id": "773c395b",
   "metadata": {},
   "outputs": [
    {
     "name": "stdout",
     "output_type": "stream",
     "text": [
      "(33172, 1)\n",
      "(27628, 1)\n"
     ]
    }
   ],
   "source": [
    "y_SCE = SCE_realdata_encoded[['ICL_kWphh_cap']]\n",
    "print(y_SCE.shape)\n",
    "y_PGE = PGE_realdata_encoded[['ICL_kWphh_cap']]\n",
    "print(y_PGE.shape)"
   ]
  },
  {
   "cell_type": "markdown",
   "id": "ea1b4ce3",
   "metadata": {},
   "source": [
    "Eliminate SCE data where ICL is null"
   ]
  },
  {
   "cell_type": "code",
   "execution_count": 16,
   "id": "64f403e3",
   "metadata": {},
   "outputs": [
    {
     "name": "stdout",
     "output_type": "stream",
     "text": [
      "(31260, 1)\n",
      "(31260, 42)\n"
     ]
    }
   ],
   "source": [
    "y_SCE = y_SCE.dropna()\n",
    "print(y_SCE.shape)\n",
    "SCE_realdata_encoded = SCE_realdata_encoded.loc[y_SCE.index,:]\n",
    "print(SCE_realdata_encoded.shape)"
   ]
  },
  {
   "cell_type": "markdown",
   "id": "3df71aa9",
   "metadata": {},
   "source": [
    "Create differente sets of variables/features (X)"
   ]
  },
  {
   "cell_type": "code",
   "execution_count": 17,
   "id": "80c41a58",
   "metadata": {},
   "outputs": [],
   "source": [
    "# SCE Variable Sets\n",
    "\n",
    "X_SCE_infra_cols = ['CircVolt_kV', 'Length_m', 'Length_m_ctot']\n",
    "\n",
    "X_SCE_service_cols = ['Res_pct', 'Com_pct', 'Ind_pct', 'Agr_pct', 'Oth_pct', 'tothh_Cpoly',\n",
    "                        'tothh_ctot', 'tothh_pct', 'tothh_perkm', 'ResCust']\n",
    "\n",
    "X_SCE_demo_cols = ['tothh', 'racediversity', 'black_pct', 'asian_pct', 'nlxwhite_pct', \n",
    "                   'latinx_pct', 'inc50kbelow_pct', 'inc150kplus_pct', 'medhhinc', 'edavgyrs',\n",
    "                   'polexposure_pctl', 'polenvt_pctl', 'popsens_pctl', 'lingisolation_pctl',\n",
    "                   'hhdensity_hhsqkm', 'ownerocc_pct', 'MUD_pct', 'unitsavg', 'medyrbuilt']\n",
    "\n",
    "X_SCE_house_cols = ['singleunit_pct', 'duplex_pct', 'smallmulti_pct', 'largemulti_pct'] #Housing sizes\n",
    "\n",
    "X_SCE_all_cols = X_SCE_infra_cols + X_SCE_service_cols + X_SCE_demo_cols\n",
    "\n",
    "\n",
    "# PG&E Independent Variable Sets\n",
    "\n",
    "X_PGE_infra_cols = ['CircVolt_kV', 'Length_m', 'ICA_pct', 'Length_m_ctot']\n",
    "\n",
    "X_PGE_service_cols = ['Res_pct', 'Com_pct', 'Ind_pct', 'Agr_pct', 'Oth_pct', 'tothh_Cpoly',\n",
    "                        'tothh_ctot', 'tothh_pct', 'tothh_perkm', 'ResCust']\n",
    "\n",
    "X_PGE_demo_cols = ['tothh', 'racediversity', 'black_pct', 'asian_pct', 'nlxwhite_pct', \n",
    "                   'latinx_pct', 'inc50kbelow_pct', 'inc150kplus_pct', 'medhhinc', 'edavgyrs',\n",
    "                   'polexposure_pctl', 'polenvt_pctl', 'popsens_pctl', 'lingisolation_pctl',\n",
    "                   'hhdensity_hhsqkm', 'ownerocc_pct', 'MUD_pct', 'unitsavg', 'medyrbuilt']\n",
    "\n",
    "X_PGE_house_cols = ['singleunit_pct', 'duplex_pct', 'smallmulti_pct', 'largemulti_pct'] #Housing sizes\n",
    "\n",
    "X_PGE_all_cols = X_PGE_infra_cols + X_PGE_service_cols + X_PGE_demo_cols"
   ]
  },
  {
   "cell_type": "code",
   "execution_count": 18,
   "id": "a29909d2",
   "metadata": {},
   "outputs": [],
   "source": [
    "#Removing hhdensity_hhsqkm from set of variables\n",
    "X_SCE_demo_hhdens_cols = ['tothh', 'racediversity', 'black_pct', 'asian_pct', 'nlxwhite_pct', \n",
    "                          'latinx_pct', 'inc50kbelow_pct', 'inc150kplus_pct', 'medhhinc', 'edavgyrs',\n",
    "                          'polexposure_pctl', 'polenvt_pctl', 'popsens_pctl', 'lingisolation_pctl',\n",
    "                          'ownerocc_pct', 'MUD_pct', 'unitsavg', 'medyrbuilt']\n",
    "\n",
    "X_PGE_demo_hhdens_cols = ['tothh', 'racediversity', 'black_pct', 'asian_pct', 'nlxwhite_pct', \n",
    "                          'latinx_pct', 'inc50kbelow_pct', 'inc150kplus_pct', 'medhhinc', 'edavgyrs',\n",
    "                          'polexposure_pctl', 'polenvt_pctl', 'popsens_pctl', 'lingisolation_pctl',\n",
    "                          'ownerocc_pct', 'MUD_pct', 'unitsavg', 'medyrbuilt']\n",
    "\n",
    "X_SCE_all_hhdens_cols = X_SCE_infra_cols + X_SCE_service_cols + X_SCE_demo_hhdens_cols\n",
    "\n",
    "X_PGE_all_hhdens_cols = X_PGE_infra_cols + X_PGE_service_cols + X_PGE_demo_hhdens_cols"
   ]
  },
  {
   "cell_type": "code",
   "execution_count": 19,
   "id": "4f11488d",
   "metadata": {},
   "outputs": [],
   "source": [
    "# Split SCE_realdata_encoded according to columns\n",
    "X_all_SCE = SCE_realdata_encoded[X_SCE_all_cols].dropna()\n",
    "y_all_SCE = y_SCE.loc[X_all_SCE.index,:]\n",
    "X_infra_SCE = SCE_realdata_encoded[X_SCE_infra_cols].dropna()\n",
    "y_infra_SCE = y_SCE.loc[X_infra_SCE.index,:]\n",
    "X_service_SCE = SCE_realdata_encoded[X_SCE_service_cols].dropna()\n",
    "y_service_SCE = y_SCE.loc[X_service_SCE.index,:]\n",
    "X_demo_SCE = SCE_realdata_encoded[X_SCE_demo_cols].dropna()\n",
    "y_demo_SCE = y_SCE.loc[X_demo_SCE.index,:]\n",
    "X_house_SCE = SCE_realdata_encoded[X_SCE_house_cols].dropna()\n",
    "y_house_SCE = y_SCE.loc[X_house_SCE.index,:]\n",
    "\n",
    "# Split PGE_realdata_encoded according to columns\n",
    "X_all_PGE = PGE_realdata_encoded[X_PGE_all_cols].dropna()\n",
    "y_all_PGE = y_PGE.loc[X_all_PGE.index,:]\n",
    "X_infra_PGE = PGE_realdata_encoded[X_PGE_infra_cols].dropna()\n",
    "y_infra_PGE = y_PGE.loc[X_infra_PGE.index,:]\n",
    "X_service_PGE = PGE_realdata_encoded[X_PGE_service_cols].dropna()\n",
    "y_service_PGE = y_PGE.loc[X_service_PGE.index,:]\n",
    "X_demo_PGE = PGE_realdata_encoded[X_PGE_demo_cols].dropna()\n",
    "y_demo_PGE = y_PGE.loc[X_demo_PGE.index,:]\n",
    "X_house_PGE = PGE_realdata_encoded[X_PGE_house_cols].dropna()\n",
    "y_house_PGE = y_PGE.loc[X_house_PGE.index,:]"
   ]
  },
  {
   "cell_type": "code",
   "execution_count": 20,
   "id": "f6c3e18f",
   "metadata": {},
   "outputs": [],
   "source": [
    "X_all_hhdens_SCE = SCE_realdata_encoded[X_SCE_all_hhdens_cols].dropna()\n",
    "y_all_hhdens_SCE = y_SCE.loc[X_all_hhdens_SCE.index,:]\n",
    "\n",
    "X_all_hhdens_PGE = PGE_realdata_encoded[X_PGE_all_hhdens_cols].dropna()\n",
    "y_all_hhdens_PGE = y_PGE.loc[X_all_hhdens_PGE.index,:]\n",
    "\n",
    "X_demo_hhdens_SCE = SCE_realdata_encoded[X_SCE_demo_hhdens_cols].dropna()\n",
    "y_demo_hhdens_SCE = y_SCE.loc[X_demo_hhdens_SCE.index,:]\n",
    "\n",
    "X_demo_hhdens_PGE = PGE_realdata_encoded[X_PGE_demo_hhdens_cols].dropna()\n",
    "y_demo_hhdens_PGE = y_PGE.loc[X_demo_hhdens_PGE.index,:]"
   ]
  },
  {
   "cell_type": "markdown",
   "id": "883beb11",
   "metadata": {},
   "source": [
    "## 3 - Random forest regressions"
   ]
  },
  {
   "cell_type": "code",
   "execution_count": 21,
   "id": "386a3a7c",
   "metadata": {},
   "outputs": [],
   "source": [
    "def rf_regression(y_val, run, X, y, utility):\n",
    "    \"\"\"\n",
    "    Run the Random Forest Regression Models\n",
    "    Save CSVs of feature importances and errors\n",
    "    \n",
    "    Run options:\n",
    "    0. all variables\n",
    "    1. infra variables\n",
    "    2. service variables\n",
    "    3. demo variables\n",
    "    4. house variables\n",
    "    \"\"\"\n",
    "    \n",
    "    cwd = os.getcwd()\n",
    "    \n",
    "    rf_model = RandomForestRegressor()\n",
    "    \n",
    "    if utility == 'SCE':\n",
    "        weights = SCE_realdata_encoded.loc[X.index, 'tothh_Cpoly']\n",
    "\n",
    "        FI_col_name = 'SCE FI with ' + run + ' Variables'\n",
    "        fi_df_name = 'SCE_FeatImp_' + run + '.csv'\n",
    "        fi_fig_name = 'SCE_FI_' + run + '.png'\n",
    "        eval_col_name = 'SCE Eval metrics with ' + run + ' Variables'\n",
    "        eval_df_name = 'SCE_RFEval_' + run + '.csv'\n",
    "        \n",
    "    else: # utility == 'PGE'\n",
    "        weights = PGE_realdata_encoded.loc[X.index, 'tothh_Cpoly']\n",
    "        \n",
    "        FI_col_name = 'PG&E FI with ' + run + ' Variables'\n",
    "        fi_df_name = 'PGE_FeatImp_' + run + '.csv'\n",
    "        fi_fig_name = 'PGE_FI_' + run + '.png'\n",
    "        eval_col_name = 'PG&E Eval metrics with ' + run + ' Variables'\n",
    "        eval_df_name = 'PGE_RFEval_' + run + '.csv'\n",
    "\n",
    "    # Fit Final Model\n",
    "    rf_model.fit(X, y, sample_weight = weights)\n",
    "    # Make predictions for both train and test sets\n",
    "    y_pred = rf_model.predict(X)\n",
    "    # Find Feature Importances\n",
    "    FI = rf_model.feature_importances_\n",
    "    # Evaluation metrics: weighted R^2 and weighted RMSE\n",
    "    r2 = rf_model.score(X, y, sample_weight = weights)\n",
    "    mse = mean_squared_error(y_pred, y, sample_weight = weights)\n",
    "    rmse = np.sqrt(mse)\n",
    "    \n",
    "    # Save Feature Importance Data\n",
    "    FI_df = pd.DataFrame(data = FI, index = X.columns, columns = [FI_col_name])\n",
    "    save_to_FI = cwd + '/feat_imp/' + fi_df_name\n",
    "    FI_df.to_csv(save_to_FI)\n",
    "    \n",
    "    # Save Feature Importance Data as Barchart\n",
    "    primary_col = FI_col_name\n",
    "    primary_col_name = 'normal'\n",
    "    FI_df_sorted = FI_df.sort_values(by = primary_col, ascending = False)\n",
    "    FI_df_sorted[primary_col].plot(kind = 'bar', figsize = (10,5))\n",
    "        \n",
    "    plt.xlabel('Features', fontsize = 15);\n",
    "    plt.ylabel('Feature Importance', fontsize = 15)\n",
    "    plt.title(FI_col_name, fontsize = 15)\n",
    "    save_to_fi_barchart = cwd + '/figures/' + fi_fig_name\n",
    "    plt.savefig(save_to_fi_barchart, dpi = 300, bbox_inches = 'tight');\n",
    "    plt.close()\n",
    "    \n",
    "    # Save Evaluation Metrics Data\n",
    "    eval_df = pd.DataFrame(data = [r2, mse, rmse], \n",
    "                           index = ['r2', 'mse', 'rmse'],\n",
    "                                   columns = [eval_col_name])\n",
    "    save_to_eval = cwd + '/eval_metrics/' + eval_df_name\n",
    "    eval_df.to_csv(save_to_eval)"
   ]
  },
  {
   "cell_type": "code",
   "execution_count": 22,
   "id": "2bd2862f",
   "metadata": {},
   "outputs": [],
   "source": [
    "run_vals = ['all', 'infra', 'service', 'demo', 'house', \"all_hhdens\", \"demo_hhdens\"]"
   ]
  },
  {
   "cell_type": "code",
   "execution_count": 20,
   "id": "54f8fd25",
   "metadata": {},
   "outputs": [],
   "source": [
    "#Run random forest regression for each group of variables\n",
    "#SCE\n",
    "rf_regression('ICL_kWphh_cap', run_vals[0], X_all_SCE,\n",
    "          y_all_SCE['ICL_kWphh_cap'], 'SCE')\n",
    "\n",
    "rf_regression('ICL_kWphh_cap', run_vals[1], X_infra_SCE,\n",
    "          y_infra_SCE['ICL_kWphh_cap'], 'SCE')\n",
    "\n",
    "rf_regression('ICL_kWphh_cap', run_vals[2], X_service_SCE,\n",
    "          y_service_SCE['ICL_kWphh_cap'], 'SCE')\n",
    "    \n",
    "rf_regression('ICL_kWphh_cap', run_vals[3], X_demo_SCE,\n",
    "          y_demo_SCE['ICL_kWphh_cap'], 'SCE')\n",
    "\n",
    "rf_regression('ICL_kWphh_cap', run_vals[4], X_house_SCE,\n",
    "          y_house_SCE['ICL_kWphh_cap'], 'SCE')\n",
    "\n",
    "\n",
    "#PGE\n",
    "rf_regression('ICL_kWphh_cap', run_vals[0], X_all_PGE,\n",
    "          y_all_PGE['ICL_kWphh_cap'], 'PGE')\n",
    "\n",
    "rf_regression('ICL_kWphh_cap', run_vals[1], X_infra_PGE,\n",
    "          y_infra_PGE['ICL_kWphh_cap'], 'PGE')\n",
    "\n",
    "rf_regression('ICL_kWphh_cap', run_vals[2], X_service_PGE,\n",
    "          y_service_PGE['ICL_kWphh_cap'], 'PGE')\n",
    "    \n",
    "rf_regression('ICL_kWphh_cap', run_vals[3], X_demo_PGE,\n",
    "          y_demo_PGE['ICL_kWphh_cap'], 'PGE')\n",
    "\n",
    "rf_regression('ICL_kWphh_cap', run_vals[4], X_house_PGE,\n",
    "          y_house_PGE['ICL_kWphh_cap'], 'PGE')"
   ]
  },
  {
   "cell_type": "code",
   "execution_count": 21,
   "id": "963223ba",
   "metadata": {},
   "outputs": [],
   "source": [
    "#Running regression for all and demographic variables without household density\n",
    "rf_regression('ICL_kWphh_cap', run_vals[5], X_all_hhdens_SCE,\n",
    "          y_all_hhdens_SCE['ICL_kWphh_cap'], 'SCE')\n",
    "rf_regression('ICL_kWphh_cap', run_vals[5], X_all_hhdens_PGE,\n",
    "          y_all_hhdens_PGE['ICL_kWphh_cap'], 'PGE')\n",
    "\n",
    "rf_regression('ICL_kWphh_cap', run_vals[6], X_demo_hhdens_SCE,\n",
    "          y_demo_hhdens_SCE['ICL_kWphh_cap'], 'SCE')\n",
    "rf_regression('ICL_kWphh_cap', run_vals[6], X_demo_hhdens_PGE,\n",
    "          y_demo_hhdens_PGE['ICL_kWphh_cap'], 'PGE')"
   ]
  },
  {
   "cell_type": "markdown",
   "id": "7ef1c5b1",
   "metadata": {},
   "source": [
    "## 4 - Linear regressions"
   ]
  },
  {
   "cell_type": "markdown",
   "id": "b0b28822",
   "metadata": {},
   "source": [
    "### Defining useful functions"
   ]
  },
  {
   "cell_type": "code",
   "execution_count": 22,
   "id": "f23f38c6",
   "metadata": {},
   "outputs": [],
   "source": [
    "def _check_reg_targets(y_true, y_pred, multioutput, dtype=\"numeric\"):\n",
    "    \"\"\"Check that y_true and y_pred belong to the same regression task\n",
    "    \"\"\"\n",
    "    check_consistent_length(y_true, y_pred)\n",
    "    y_true = check_array(y_true, ensure_2d=False, dtype=dtype)\n",
    "    y_pred = check_array(y_pred, ensure_2d=False, dtype=dtype)\n",
    "\n",
    "    if y_true.ndim == 1:\n",
    "        y_true = y_true.reshape((-1, 1))\n",
    "\n",
    "    if y_pred.ndim == 1:\n",
    "        y_pred = y_pred.reshape((-1, 1))\n",
    "\n",
    "    if y_true.shape[1] != y_pred.shape[1]:\n",
    "        raise ValueError(\"y_true and y_pred have different number of output \"\n",
    "                         \"({0}!={1})\".format(y_true.shape[1], y_pred.shape[1]))\n",
    "\n",
    "    n_outputs = y_true.shape[1]\n",
    "    allowed_multioutput_str = ('raw_values', 'uniform_average',\n",
    "                               'variance_weighted')\n",
    "    if isinstance(multioutput, str):\n",
    "        if multioutput not in allowed_multioutput_str:\n",
    "            raise ValueError(\"Allowed 'multioutput' string values are {}. \"\n",
    "                             \"You provided multioutput={!r}\".format(\n",
    "                                 allowed_multioutput_str,\n",
    "                                 multioutput))\n",
    "    elif multioutput is not None:\n",
    "        multioutput = check_array(multioutput, ensure_2d=False)\n",
    "        if n_outputs == 1:\n",
    "            raise ValueError(\"Custom weights are useful only in \"\n",
    "                             \"multi-output cases.\")\n",
    "        elif n_outputs != len(multioutput):\n",
    "            raise ValueError((\"There must be equally many custom weights \"\n",
    "                              \"(%d) as outputs (%d).\") %\n",
    "                             (len(multioutput), n_outputs))\n",
    "    y_type = 'continuous' if n_outputs == 1 else 'continuous-multioutput'\n",
    "\n",
    "    return y_type, y_true, y_pred, multioutput"
   ]
  },
  {
   "cell_type": "code",
   "execution_count": 23,
   "id": "9db3640b",
   "metadata": {},
   "outputs": [],
   "source": [
    "def mean_squared_error_weighted_SCE(model, X_test, y_true, *,\n",
    "                       sample_weight=None,\n",
    "                       multioutput='uniform_average', squared=True):\n",
    "    \"\"\"Mean squared error regression loss\n",
    "    Read more in the :ref:`User Guide <mean_squared_error>`.\n",
    "    \"\"\"\n",
    "    sample_weight = SCE_realdata_encoded.loc[X_test.index.tolist(),'tothh_Cpoly']\n",
    "    \n",
    "    y_pred = model.predict(X_test)\n",
    "    \n",
    "    y_type, y_true, y_pred, multioutput = _check_reg_targets(\n",
    "        y_true, y_pred, multioutput)\n",
    "    check_consistent_length(y_true, y_pred, sample_weight)\n",
    "    output_errors = np.average((y_true - y_pred) ** 2, axis=0,\n",
    "                               weights=sample_weight)\n",
    "    if isinstance(multioutput, str):\n",
    "        if multioutput == 'raw_values':\n",
    "            return output_errors if squared else np.sqrt(output_errors)\n",
    "        elif multioutput == 'uniform_average':\n",
    "            # pass None as weights to np.average: uniform mean\n",
    "            multioutput = None\n",
    "\n",
    "    mse = np.average(output_errors, weights=multioutput)\n",
    "    return mse if squared else np.sqrt(mse)"
   ]
  },
  {
   "cell_type": "code",
   "execution_count": 24,
   "id": "ce433eba",
   "metadata": {},
   "outputs": [],
   "source": [
    "def mean_squared_error_weighted_PGE(model, X_test, y_true, *,\n",
    "                       sample_weight=None,\n",
    "                       multioutput='uniform_average', squared=True):\n",
    "    \"\"\"Mean squared error regression loss\n",
    "    Read more in the :ref:`User Guide <mean_squared_error>`.\n",
    "    \"\"\"\n",
    "    sample_weight = PGE_realdata_encoded.loc[X_test.index.tolist(),'tothh_Cpoly']\n",
    "    \n",
    "    y_pred = model.predict(X_test)\n",
    "    \n",
    "    y_type, y_true, y_pred, multioutput = _check_reg_targets(\n",
    "        y_true, y_pred, multioutput)\n",
    "    check_consistent_length(y_true, y_pred, sample_weight)\n",
    "    output_errors = np.average((y_true - y_pred) ** 2, axis=0,\n",
    "                               weights=sample_weight)\n",
    "    if isinstance(multioutput, str):\n",
    "        if multioutput == 'raw_values':\n",
    "            return output_errors if squared else np.sqrt(output_errors)\n",
    "        elif multioutput == 'uniform_average':\n",
    "            # pass None as weights to np.average: uniform mean\n",
    "            multioutput = None\n",
    "\n",
    "    mse = np.average(output_errors, weights=multioutput)\n",
    "    return mse if squared else np.sqrt(mse)"
   ]
  },
  {
   "cell_type": "code",
   "execution_count": 25,
   "id": "63946d84",
   "metadata": {},
   "outputs": [],
   "source": [
    "def r2_score_weighted_SCE(model, X_test, y_true, *, sample_weight = None,\n",
    "             multioutput=\"uniform_average\"):\n",
    "    \"\"\"R^2 (coefficient of determination) regression score function.\n",
    "    Best possible score is 1.0 and it can be negative (because the\n",
    "    model can be arbitrarily worse). A constant model that always\n",
    "    predicts the expected value of y, disregarding the input features,\n",
    "    would get a R^2 score of 0.0.\n",
    "    Read more in the :ref:`User Guide <r2_score>`.\n",
    "    \"\"\"\n",
    "    y_pred = model.predict(X_test)\n",
    "    \n",
    "    sample_weight = SCE_realdata_encoded.loc[X_test.index.tolist(),'tothh_Cpoly']\n",
    "    \n",
    "    if _num_samples(y_pred) < 2:\n",
    "        msg = \"R^2 score is not well-defined with less than two samples.\"\n",
    "        warnings.warn(msg, UndefinedMetricWarning)\n",
    "        return float('nan')\n",
    "\n",
    "    if sample_weight is not None:\n",
    "        sample_weight = column_or_1d(sample_weight)\n",
    "        weight = sample_weight[:, np.newaxis]\n",
    "        weight = weight.flatten()\n",
    "    else:\n",
    "        weight = 1.\n",
    "        \n",
    "    numerator = np.sum(weight * (y_true - y_pred) ** 2, axis = 0)\n",
    "    denominator = np.sum(weight * (y_true - np.average(\n",
    "        y_true, axis=0, weights=sample_weight)) ** 2, axis = 0)\n",
    "    nonzero_denominator = denominator != 0\n",
    "    nonzero_numerator = numerator != 0\n",
    "    valid_score = nonzero_denominator & nonzero_numerator\n",
    "    output_scores = np.ones([len(y_true)])\n",
    "    output_scores[valid_score] = 1 - (numerator[valid_score] /\n",
    "                                      denominator[valid_score])\n",
    "    # arbitrary set to zero to avoid -inf scores, having a constant\n",
    "    # y_true is not interesting for scoring a regression anyway\n",
    "    output_scores[nonzero_numerator & ~nonzero_denominator] = 0.\n",
    "    if isinstance(multioutput, str):\n",
    "        if multioutput == 'raw_values':\n",
    "            # return scores individually\n",
    "            return output_scores\n",
    "        elif multioutput == 'uniform_average':\n",
    "            # passing None as weights results is uniform mean\n",
    "            avg_weights = None\n",
    "        elif multioutput == 'variance_weighted':\n",
    "            avg_weights = denominator\n",
    "            # avoid fail on constant y or one-element arrays\n",
    "            if not np.any(nonzero_denominator):\n",
    "                if not np.any(nonzero_numerator):\n",
    "                    return 1.0\n",
    "                else:\n",
    "                    return 0.0\n",
    "    else:\n",
    "        avg_weights = multioutput\n",
    "\n",
    "    return np.average(output_scores, weights=avg_weights)"
   ]
  },
  {
   "cell_type": "code",
   "execution_count": 26,
   "id": "499247ef",
   "metadata": {},
   "outputs": [],
   "source": [
    "def r2_score_weighted_PGE(model, X_test, y_true, *, sample_weight = None,\n",
    "             multioutput=\"uniform_average\"):\n",
    "    \"\"\"R^2 (coefficient of determination) regression score function.\n",
    "    Best possible score is 1.0 and it can be negative (because the\n",
    "    model can be arbitrarily worse). A constant model that always\n",
    "    predicts the expected value of y, disregarding the input features,\n",
    "    would get a R^2 score of 0.0.\n",
    "    Read more in the :ref:`User Guide <r2_score>`.\n",
    "    \"\"\"\n",
    "    y_pred = model.predict(X_test)\n",
    "    \n",
    "    sample_weight = PGE_realdata_encoded.loc[X_test.index.tolist(),'tothh_Cpoly']\n",
    "\n",
    "    if _num_samples(y_pred) < 2:\n",
    "        msg = \"R^2 score is not well-defined with less than two samples.\"\n",
    "        warnings.warn(msg, UndefinedMetricWarning)\n",
    "        return float('nan')\n",
    "\n",
    "    if sample_weight is not None:\n",
    "        sample_weight = column_or_1d(sample_weight)\n",
    "        weight = sample_weight[:, np.newaxis]\n",
    "        weight = weight.flatten()\n",
    "    else:\n",
    "        weight = 1.\n",
    "        \n",
    "    numerator = np.sum(weight * (y_true - y_pred) ** 2, axis = 0)\n",
    "    denominator = np.sum(weight * (y_true - np.average(\n",
    "        y_true, axis=0, weights=sample_weight)) ** 2, axis = 0)\n",
    "    nonzero_denominator = denominator != 0\n",
    "    nonzero_numerator = numerator != 0\n",
    "    valid_score = nonzero_denominator & nonzero_numerator\n",
    "    output_scores = np.ones([len(y_true)])\n",
    "    output_scores[valid_score] = 1 - (numerator[valid_score] /\n",
    "                                      denominator[valid_score])\n",
    "    # arbitrary set to zero to avoid -inf scores, having a constant\n",
    "    # y_true is not interesting for scoring a regression anyway\n",
    "    output_scores[nonzero_numerator & ~nonzero_denominator] = 0.\n",
    "    if isinstance(multioutput, str):\n",
    "        if multioutput == 'raw_values':\n",
    "            # return scores individually\n",
    "            return output_scores\n",
    "        elif multioutput == 'uniform_average':\n",
    "            # passing None as weights results is uniform mean\n",
    "            avg_weights = None\n",
    "        elif multioutput == 'variance_weighted':\n",
    "            avg_weights = denominator\n",
    "            # avoid fail on constant y or one-element arrays\n",
    "            if not np.any(nonzero_denominator):\n",
    "                if not np.any(nonzero_numerator):\n",
    "                    return 1.0\n",
    "                else:\n",
    "                    return 0.0\n",
    "    else:\n",
    "        avg_weights = multioutput\n",
    "\n",
    "    return np.average(output_scores, weights=avg_weights)"
   ]
  },
  {
   "cell_type": "code",
   "execution_count": 27,
   "id": "d1f23b5d",
   "metadata": {},
   "outputs": [],
   "source": [
    "def linreg(y_val, run, X, y, utility):\n",
    "    \"\"\"\n",
    "    Run Linear Regression Methods on a Independent & Dependent Variable Set\n",
    "    \"\"\"\n",
    "    cwd = os.getcwd()\n",
    "    \n",
    "    # Normalize\n",
    "    X = (X - X.mean()) / X.std()\n",
    "    \n",
    "    if utility == 'SCE':\n",
    "        sample_weights = SCE_realdata_encoded.loc[X.index.tolist(),'tothh_Cpoly']\n",
    "        coef_df_name = 'SCE_LinMod_coef_' + run + '.csv'\n",
    "        eval_col_name = 'SCE Eval metrics with ' + run + ' Variables'\n",
    "        eval_df_name = 'SCE_LinModEval_' + run + '.csv'\n",
    "    else: # utility == 'PGE'\n",
    "        sample_weights = PGE_realdata_encoded.loc[X.index.tolist(),'tothh_Cpoly']\n",
    "        coef_df_name = 'PGE_LinMod_coef_' + run + '.csv'\n",
    "        eval_col_name = 'PG&E Eval metrics with ' + run + ' Variables'\n",
    "        eval_df_name = 'PGE_LinModEval_' + run + '.csv'\n",
    "    \n",
    "    # Model Creation and Evaluation\n",
    "    lm = LinearRegression().fit(X, y, sample_weight = sample_weights)\n",
    "    if utility == 'SCE':\n",
    "        mse = mean_squared_error_weighted_SCE(lm, X, y)\n",
    "        rmse = np.sqrt(mse)\n",
    "        r2 = r2_score_weighted_SCE(lm, X, y)\n",
    "    else: # utility = 'PGE'\n",
    "        mse = mean_squared_error_weighted_PGE(lm, X, y)\n",
    "        rmse = np.sqrt(mse)\n",
    "        r2 = r2_score_weighted_PGE(lm, X, y)\n",
    "\n",
    "    eval_metrics = pd.DataFrame(data = [r2, \n",
    "                                        mse, \n",
    "                                        rmse],\n",
    "                               index = ['r2', \n",
    "                                        'mse', \n",
    "                                        'rmse'],\n",
    "                               columns = [eval_col_name])\n",
    "    coef_df = pd.DataFrame(data = lm.coef_, index = X.columns, columns=['Linear Model Coefs'])\n",
    "        \n",
    "    y_hat = lm.predict(X)\n",
    "    residuals = y - y_hat\n",
    "    residenal_sum_of_squares = residuals.T @ residuals\n",
    "    sigma_squared_hat = residenal_sum_of_squares / (X.shape[0] - (X.shape[1]))\n",
    "    var_beta_hat = np.linalg.inv(X.T @ X) * sigma_squared_hat\n",
    "    standard_errors = []\n",
    "    for p_ in range(X.shape[1]):\n",
    "        standard_errors.append(var_beta_hat[p_, p_] ** 0.5)\n",
    "        \n",
    "    coef_df['Standard Errors'] = standard_errors\n",
    "    \n",
    "    # Save Eval Metrics and Coefficients\n",
    "    save_to_eval = cwd + '/lm_eval_metrics/' + eval_df_name\n",
    "    eval_metrics.to_csv(save_to_eval)\n",
    "    save_to_coef = cwd + '/lm_coef/' + coef_df_name\n",
    "    coef_df.to_csv(save_to_coef)"
   ]
  },
  {
   "cell_type": "code",
   "execution_count": 35,
   "id": "402efdfc",
   "metadata": {},
   "outputs": [],
   "source": [
    "#Remove collinear columns\n",
    "X_all_SCE_mod = X_all_SCE.drop(columns = ['Agr_pct', 'Ind_pct', 'Oth_pct'])\n",
    "X_all_PGE_mod = X_all_PGE.drop(columns = ['Agr_pct', 'Ind_pct', 'Oth_pct'])\n",
    "X_service_SCE_mod = X_service_SCE.drop(columns = ['Agr_pct', 'Ind_pct', 'Oth_pct'])\n",
    "X_service_PGE_mod = X_service_PGE.drop(columns = ['Agr_pct', 'Ind_pct', 'Oth_pct'])\n",
    "\n",
    "X_all_hhdens_SCE_mod = X_all_hhdens_SCE.drop(columns = ['Agr_pct', 'Ind_pct', 'Oth_pct'])\n",
    "X_all_hhdens_PGE_mod = X_all_hhdens_PGE.drop(columns = ['Agr_pct', 'Ind_pct', 'Oth_pct'])"
   ]
  },
  {
   "cell_type": "code",
   "execution_count": 37,
   "id": "c94e686f",
   "metadata": {},
   "outputs": [],
   "source": [
    "#Run linear regression for each group of variables\n",
    "#SCE\n",
    "linreg('ICL_kWphh_cap', run_vals[0], X_all_SCE_mod,\n",
    "          y_all_SCE['ICL_kWphh_cap'], 'SCE')\n",
    "\n",
    "linreg('ICL_kWphh_cap', run_vals[1], X_infra_SCE,\n",
    "          y_infra_SCE['ICL_kWphh_cap'], 'SCE')\n",
    "\n",
    "linreg('ICL_kWphh_cap', run_vals[2], X_service_SCE_mod,\n",
    "          y_service_SCE['ICL_kWphh_cap'], 'SCE')\n",
    "    \n",
    "linreg('ICL_kWphh_cap', run_vals[3], X_demo_SCE,\n",
    "          y_demo_SCE['ICL_kWphh_cap'], 'SCE')\n",
    "\n",
    "linreg('ICL_kWphh_cap', run_vals[4], X_house_SCE,\n",
    "          y_house_SCE['ICL_kWphh_cap'], 'SCE')\n",
    "\n",
    "#PGE\n",
    "linreg('ICL_kWphh_cap', run_vals[0], X_all_PGE_mod,\n",
    "          y_all_PGE['ICL_kWphh_cap'], 'PGE')\n",
    "\n",
    "linreg('ICL_kWphh_cap', run_vals[1], X_infra_PGE,\n",
    "          y_infra_PGE['ICL_kWphh_cap'], 'PGE')\n",
    "\n",
    "linreg('ICL_kWphh_cap', run_vals[2], X_service_PGE_mod,\n",
    "          y_service_PGE['ICL_kWphh_cap'], 'PGE')\n",
    "    \n",
    "linreg('ICL_kWphh_cap', run_vals[3], X_demo_PGE,\n",
    "          y_demo_PGE['ICL_kWphh_cap'], 'PGE')\n",
    "\n",
    "linreg('ICL_kWphh_cap', run_vals[4], X_house_PGE,\n",
    "          y_house_PGE['ICL_kWphh_cap'], 'PGE')"
   ]
  },
  {
   "cell_type": "code",
   "execution_count": 38,
   "id": "02fcb5d2",
   "metadata": {},
   "outputs": [],
   "source": [
    "#Running regression for all and demographic variables without household density\n",
    "linreg('ICL_kWphh_cap', run_vals[5], X_all_hhdens_SCE_mod,\n",
    "          y_all_hhdens_SCE['ICL_kWphh_cap'], 'SCE')\n",
    "\n",
    "linreg('ICL_kWphh_cap', run_vals[6], X_demo_hhdens_SCE,\n",
    "          y_demo_hhdens_SCE['ICL_kWphh_cap'], 'SCE')\n",
    "\n",
    "linreg('ICL_kWphh_cap', run_vals[5], X_all_hhdens_PGE_mod,\n",
    "          y_all_hhdens_PGE['ICL_kWphh_cap'], 'PGE')\n",
    "\n",
    "linreg('ICL_kWphh_cap', run_vals[6], X_demo_hhdens_PGE,\n",
    "          y_demo_hhdens_PGE['ICL_kWphh_cap'], 'PGE')"
   ]
  },
  {
   "cell_type": "raw",
   "id": "346cd959",
   "metadata": {},
   "source": [
    "TODO _ Faire tableau comparatif entre regression linéaire et random forest\n",
    "        _ Essayer d'optimiser les fonctions supplémentaires de régression linéaire\n",
    "            _ Tenter iRF - iterative RF"
   ]
  }
 ],
 "metadata": {
  "kernelspec": {
   "display_name": "Python 3 (ipykernel)",
   "language": "python",
   "name": "python3"
  },
  "language_info": {
   "codemirror_mode": {
    "name": "ipython",
    "version": 3
   },
   "file_extension": ".py",
   "mimetype": "text/x-python",
   "name": "python",
   "nbconvert_exporter": "python",
   "pygments_lexer": "ipython3",
   "version": "3.10.9"
  }
 },
 "nbformat": 4,
 "nbformat_minor": 5
}
